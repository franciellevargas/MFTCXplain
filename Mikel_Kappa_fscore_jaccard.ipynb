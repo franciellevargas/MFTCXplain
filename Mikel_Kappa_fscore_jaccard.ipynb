{
  "nbformat": 4,
  "nbformat_minor": 0,
  "metadata": {
    "colab": {
      "provenance": [],
      "mount_file_id": "11BT7P4XGYrsTM-exK13JuzVjsMmpnZlC",
      "authorship_tag": "ABX9TyMhhQVSfPOEgjtXjh0J/S6R",
      "include_colab_link": true
    },
    "kernelspec": {
      "name": "python3",
      "display_name": "Python 3"
    },
    "language_info": {
      "name": "python"
    }
  },
  "cells": [
    {
      "cell_type": "markdown",
      "metadata": {
        "id": "view-in-github",
        "colab_type": "text"
      },
      "source": [
        "<a href=\"https://colab.research.google.com/github/franciellevargas/MFTCXplain/blob/main/Mikel_Kappa_fscore_jaccard.ipynb\" target=\"_parent\"><img src=\"https://colab.research.google.com/assets/colab-badge.svg\" alt=\"Open In Colab\"/></a>"
      ]
    },
    {
      "cell_type": "markdown",
      "source": [
        "# Jaccard and F-SCORE\n",
        "\n",
        "## Evaluation MFTC EMNLP Paper: section 3.2.3 Table 5"
      ],
      "metadata": {
        "id": "j-EQ8P21thID"
      }
    },
    {
      "cell_type": "code",
      "source": [
        "def Jaccard_Similarity(doc1, doc2):\n",
        "  try:\n",
        "      doc1 = str(doc1).lower()\n",
        "  except:\n",
        "      doc1 = \"\"\n",
        "  try:\n",
        "      doc2 = str(doc2).lower()\n",
        "  except:\n",
        "      doc2 = \"\"\n",
        "\n",
        "  if doc1 == 'nan' or doc2 == 'nan' or not doc1 or not doc2:\n",
        "      return None\n",
        "  words_doc1 = set(doc1.split())\n",
        "  words_doc2 = set(doc2.split())\n",
        "\n",
        "  if (not words_doc1) and not(words_doc2):\n",
        "    return 1.0\n",
        "\n",
        "  intersection = words_doc1.intersection(words_doc2)\n",
        "  union = words_doc1.union(words_doc2)\n",
        "\n",
        "  return float(len(intersection)) / len(union)\n",
        "\n",
        "def f1_score(doc1, doc2):\n",
        "  try:\n",
        "      doc1 = str(doc1).lower()\n",
        "  except:\n",
        "      doc1 = \"\"\n",
        "  try:\n",
        "      doc2 = str(doc2).lower()\n",
        "  except:\n",
        "      doc2 = \"\"\n",
        "\n",
        "  if doc1 == 'nan' or doc2 == 'nan' or not doc1 or not doc2:\n",
        "      return None\n",
        "  words_doc1 = set(doc1.split())\n",
        "  words_doc2 = set(doc2.split())\n",
        "\n",
        "  if (not words_doc1) and not(words_doc2):\n",
        "    return 1.0\n",
        "\n",
        "  intersection = words_doc1.intersection(words_doc2)\n",
        "  precision = len(intersection)/len(words_doc1)\n",
        "  recall = len(intersection)/len(words_doc2)\n",
        "\n",
        "  if precision + recall == 0:\n",
        "        return 0.0\n",
        "\n",
        "  return 2 * (precision * recall) / (precision + recall)\n"
      ],
      "metadata": {
        "id": "QSZresA1xaAf"
      },
      "execution_count": null,
      "outputs": []
    },
    {
      "cell_type": "code",
      "source": [
        "rational_set_1 = [col for col in explain.columns if col.startswith('rationales_1')]\n",
        "rational_set_2 = [col for col in explain.columns if col.startswith('rationales_2')]\n",
        "rational_set_3 = [col for col in explain.columns if col.startswith('rationales_3')]\n",
        "\n",
        "explain['jaccard_rational_1'] = explain.apply(lambda row: Jaccard_Similarity(row[rational_set_1[0]], row[rational_set_1[1]]), axis =1,)\n",
        "explain['jaccard_rational_2'] = explain.apply(lambda row: Jaccard_Similarity(row[rational_set_2[0]], row[rational_set_2[1]]), axis =1,)\n",
        "explain['jaccard_rational_3'] = explain.apply(lambda row: Jaccard_Similarity(row[rational_set_3[0]], row[rational_set_3[1]]), axis =1,)\n",
        "\n",
        "\n",
        "explain['fscore_rational_1'] = explain.apply(lambda row: f1_score(row[rational_set_1[0]], row[rational_set_1[1]]), axis =1,)\n",
        "explain['fscore_rational_2'] = explain.apply(lambda row: f1_score(row[rational_set_2[0]], row[rational_set_2[1]]), axis =1,)\n",
        "explain['fscore_rational_3'] = explain.apply(lambda row: f1_score(row[rational_set_3[0]], row[rational_set_3[1]]), axis =1,)\n",
        "\n",
        "mean_jaccard_1 = explain['jaccard_rational_1'].mean()\n",
        "mean_jaccard_2 = explain['jaccard_rational_2'].mean()\n",
        "mean_jaccard_3 = explain['jaccard_rational_3'].mean()\n",
        "\n",
        "mean_fscore_1 = explain['fscore_rational_1'].mean()\n",
        "mean_fscore_2 = explain['fscore_rational_2'].mean()\n",
        "mean_fscore_3 = explain['fscore_rational_3'].mean()\n",
        "\n",
        "print(f' mean_jaccard_rational1: {mean_jaccard_1}\\n mean_jaccard_rational2: {mean_jaccard_2}\\n mean_jaccard_rational3: {mean_jaccard_3}')\n",
        "print('\\n')\n",
        "print(f' f_score_rational1: {mean_fscore_1}\\n f_score_rational2: {mean_fscore_2}\\n f_score_rational3: {mean_fscore_3}')\n"
      ],
      "metadata": {
        "colab": {
          "base_uri": "https://localhost:8080/"
        },
        "outputId": "932e6db7-878a-4570-f8ab-f2260db973cb",
        "id": "0n_YraTdxaAg"
      },
      "execution_count": null,
      "outputs": [
        {
          "output_type": "stream",
          "name": "stdout",
          "text": [
            " mean_jaccard_rational1: 0.5903327350249405\n",
            " mean_jaccard_rational2: 0.6321019448660415\n",
            " mean_jaccard_rational3: 0.5505710955710956\n",
            "\n",
            "\n",
            " f_score_rational1: 0.690476498883483\n",
            " f_score_rational2: 0.6998154811757193\n",
            " f_score_rational3: 0.6263287394866344\n"
          ]
        }
      ]
    },
    {
      "cell_type": "markdown",
      "source": [
        "# Loading LLM Prompt outcomes"
      ],
      "metadata": {
        "id": "tD6Mdp2r_gP1"
      }
    },
    {
      "cell_type": "code",
      "source": [
        "# porto\n",
        "import pandas as pd\n",
        "import pandas as pd\n",
        "from sklearn.metrics import f1_score\n",
        "\n",
        "\n",
        "porto_gpt_explain_cot = pd.read_csv('.../MFTCXPLAIN_EMNLP_2025/porto_gpt_llama_results/new_gpt_porto_mftc_explain_cot.csv')\n",
        "porto_gpt_explain_zero = pd.read_csv('.../MFTCXPLAIN_EMNLP_2025/porto_gpt_llama_results/new_gpt_porto_mftc_explain_zero.csv')\n",
        "porto_gpt_explain_4shot_zero = pd.read_csv('.../MFTCXPLAIN_EMNLP_2025/porto_gpt_llama_results/new_gpt_porto_mftc_explain_4_shot_style_prompt.csv')\n",
        "porto_llama_explain_cot = pd.read_csv('.../MFTCXPLAIN_EMNLP_2025/porto_gpt_llama_results/llama_porto_mftc_explain_cot.csv')\n",
        "porto_llama_explain_zero = pd.read_csv('.../MFTCXPLAIN_EMNLP_2025/porto_gpt_llama_results/llama_porto_mftc_explain_zero.csv')\n",
        "porto_llama_explain_4shot_zero = pd.read_csv('.../MFTCXPLAIN_EMNLP_2025/porto_gpt_llama_results/llama_porto_mftc_explain_4_shot_style_prompt.csv')\n",
        "\n",
        "# italia\n",
        "itali_gpt_explain_cot = pd.read_csv('.../MFTCXPLAIN_EMNLP_2025/italia_gpt_llama_results/gpt_itali_mftc_explain_cot.csv')\n",
        "itali_gpt_explain_zero = pd.read_csv('.../MFTCXPLAIN_EMNLP_2025/italia_gpt_llama_results/gpt_itali_mftc_explain_zero.csv')\n",
        "itali_gpt_explain_4shot_zero = pd.read_csv('.../MFTCXPLAIN_EMNLP_2025/italia_gpt_llama_results/gpt_itali_mftc_explain_4_shot_style_prompt.csv')\n",
        "itali_llama_explain_cot = pd.read_csv('.../MFTCXPLAIN_EMNLP_2025/italia_gpt_llama_results/llama_itali_mftc_explain_cot.csv')\n",
        "itali_llama_explain_zero = pd.read_csv('.../MFTCXPLAIN_EMNLP_2025/italia_gpt_llama_results/llama_itali_mftc_explain_zero.csv')\n",
        "itali_llama_explain_4shot_zero = pd.read_csv('.../MFTCXPLAIN_EMNLP_2025/italia_gpt_llama_results/llama_itali_mftc_explain_4_shot_style_prompt.csv')\n",
        "\n",
        "# persian\n",
        "persian_gpt_explain_cot = pd.read_csv('.../MFTCXPLAIN_EMNLP_2025/persia_gpt_llama_results/gpt_persia_mftc_explain_cot.csv')\n",
        "persian_gpt_explain_zero = pd.read_csv('.../MFTCXPLAIN_EMNLP_2025/persia_gpt_llama_results/gpt_persia_mftc_explain_zero.csv')\n",
        "persian_gpt_explain_4shot_zero = pd.read_csv('.../MFTCXPLAIN_EMNLP_2025/persia_gpt_llama_results/gpt_persia_mftc_explain_4_shot_style_prompt.csv')\n",
        "persian_llama_explain_4shot_zero = pd.read_csv('.../MFTCXPLAIN_EMNLP_2025/persia_gpt_llama_results/llama_persia_mftc_explain_4_shot_style_prompt.csv')\n",
        "persian_llama_explain_cot = pd.read_csv('.../MFTCXPLAIN_EMNLP_2025/persia_gpt_llama_results/llama_persia_mftc_explain_cot.csv')\n",
        "persian_llama_explain_zero = pd.read_csv('.../MFTCXPLAIN_EMNLP_2025/persia_gpt_llama_results/llama_persia_mftc_explain_zero.csv')\n",
        "\n",
        "# engllish\n",
        "english_gpt_explain_cot = pd.read_csv('.../MFTCXPLAIN_EMNLP_2025/english_gpt_llama_results/gpt_mftc_explain_cot.csv')\n",
        "english_gpt_explain_zero = pd.read_csv('.../MFTCXPLAIN_EMNLP_2025/english_gpt_llama_results/gpt_mftc_explain_zero.csv')\n",
        "english_gpt_explain_4shot_zero = pd.read_csv('.../MFTCXPLAIN_EMNLP_2025/english_gpt_llama_results/gpt_mftc_explain_4_shot_style_prompt.csv')\n",
        "english_llama_explain_4shot_zero = pd.read_csv('.../MFTCXPLAIN_EMNLP_2025/english_gpt_llama_results/llama_mftc_explain_4_shot_style_prompt.csv')\n",
        "english_llama_explain_zero = pd.read_csv('.../MFTCXPLAIN_EMNLP_2025/english_gpt_llama_results/llama_mftc_explain_zero.csv')\n",
        "english_llama_explain_cot = pd.read_csv('.../MFTCXPLAIN_EMNLP_2025/english_gpt_llama_results/llama_mftc_explain_cot.csv')"
      ],
      "metadata": {
        "id": "wNf1XuBpxI--"
      },
      "execution_count": null,
      "outputs": []
    },
    {
      "cell_type": "markdown",
      "source": [
        "Moral value transaltion by langauges:\n",
        "\n",
        "##Italian:\n",
        "\n",
        "itali_moral_values_translation = {\n",
        "\n",
        "    \"cura\": \"care\",\n",
        "\n",
        "    \"danno\": \"harm\",\n",
        "\n",
        "    \"equità\": \"fairness\",\n",
        "\n",
        "    \"imbroglio\": \"cheating\",\n",
        "\n",
        "    \"lealtà\": \"loyalty\",\n",
        "\n",
        "    \"tradimento\": \"betrayal\",\n",
        "\n",
        "    \"autorità\": \"authority\",\n",
        "\n",
        "    \"sovversione\": \"subversion\",\n",
        "\n",
        "    \"santità\": \"sanctity\",\n",
        "\n",
        "    \"degradazione\": \"degradation\"\n",
        "}\n",
        "\n",
        "\n",
        "##persian:\n",
        "\n",
        "persi_moral_values_translation ={\n",
        "\n",
        "    “مراقبت\" : \"care\"\n",
        "\n",
        "    \"آسیب\" : \"harm\"\n",
        "\n",
        "    \"انصاف\" : \"fairness\"\n",
        "\n",
        "    تقلب\": cheating\n",
        "\n",
        "    \"وفاداری\" : \"loyalty\"\n",
        "\n",
        "    \"خیانت\" : betrayal\n",
        "\n",
        "    \"اقتدار\" : \"authority\"\n",
        "\n",
        "    \"نافرمانی\": subversion\n",
        "\n",
        "    \"پاکی\" : \"purity\"\n",
        "\n",
        "    \"انحطاط\" : degradation\n",
        "}\n",
        "\n",
        "##Portuguese:\n",
        "\n",
        "moral_value_dict = {\n",
        "\n",
        "    \"cuidado\": \"care\"\n",
        "    \"dano\": \"harm\",\n",
        "    \"justiça\": \"fairness\",\n",
        "    \"trapaça\": \"cheating\",\n",
        "    \"lealdade\": \"loyalty\",\n",
        "    \"traição\": \"betrayal\",\n",
        "    \"autoridade\": \"authority\",\n",
        "    \"subversão\": \"subversion\",\n",
        "    \"santidade\": \"sanctity\",\n",
        "    \"degradação\": \"degradation\",\n",
        "  }"
      ],
      "metadata": {
        "id": "OhqpOgug6jW7"
      }
    },
    {
      "cell_type": "markdown",
      "source": [
        "# Code for calculating hate speech calssification and moral alignment - F-score only\n",
        "\n",
        "## MFTC EMNLP Ppaper Table 7 - Partial\n"
      ],
      "metadata": {
        "id": "WAKiQMFc6oDr"
      }
    },
    {
      "cell_type": "code",
      "source": [
        "def compute_custom_f1(df, case_name):\n",
        "    # Replace 'none' with 'NM' in the predicted column\n",
        "    df['moral_value'] = df['moral_value'].replace('None', 'NM')\n",
        "\n",
        "    # Function to remove prefixes\n",
        "    def remove_prefixes(text):\n",
        "        if pd.isna(text):\n",
        "            return ''\n",
        "        prefixes = [\"AN - \", \"FN - \", \"PN - \", \"HN - \", \"HP - \", \"FP - \", \"LP - \", \"LN - \", \"AP - \", \"PP - \"]\n",
        "        for prefix in prefixes:\n",
        "            if text.lower().startswith(prefix.lower()):\n",
        "                return text[len(prefix):].strip()\n",
        "        return text.strip()\n",
        "\n",
        "    def replace_to_english(text):\n",
        "        if pd.isna(text):\n",
        "            return ''\n",
        "        if not isinstance(text, str):\n",
        "            return str(text)\n",
        "        translation_dict_itali = {\n",
        "            # Italian translations\n",
        "            \"cura\": \"care\", \"danno\": \"harm\", \"equità\": \"fairness\", \"imbroglio\": \"cheating\",\n",
        "            \"lealtà\": \"loyalty\", \"tradimento\": \"betrayal\", \"autorità\": \"authority\", #because it is written loyaty(no l) in the main dataset\n",
        "            \"sovversione\": \"subversion\", \"santità\": \"sanctity\", \"degradazione\": \"degradation\"}\n",
        "\n",
        "            # Persian translations\n",
        "        translation_dict_persia = {\"مراقبت\": \"care\", \"آسیب\": \"harm\", \"انصاف\": \"fairness\", \"تقلب\": \"cheating\",\n",
        "            \"وفاداری\": \"loyalty\", \"خیانت\": \"betrayal\", \"اقتدار\": \"authority\",\n",
        "            \"نافرمانی\": \"subversion\", \"پاکی\": \"purity\", \"انحطاط\": \"degradation\"}\n",
        "\n",
        "        text_lower = text.lower().strip()\n",
        "        for italian, english in translation_dict_persia.items():\n",
        "            if italian in text_lower:\n",
        "                return english\n",
        "        return text_lower\n",
        "    # Normalize text\n",
        "    for col in ['moral_value', 'mft_sentiment_first', 'mft_sentiment_second', 'mft_sentiment_third']:\n",
        "        df[col] = df[col].str.lower().apply(remove_prefixes)\n",
        "        df[col] = df[col].astype(str).str.replace('loyaty', 'loyalty', case=True) #the dataset has loyaty(no l)\n",
        "\n",
        "    df['moral_value'] = df['moral_value'].astype(str).apply(replace_to_english)\n",
        "\n",
        "    # Match predicted value against any of the reference labels\n",
        "    def resolve_with_partial_match(row):\n",
        "        pred = row['moral_value']\n",
        "        refs = [row['mft_sentiment_first'], row['mft_sentiment_second'], row['mft_sentiment_third']]\n",
        "        for ref in refs:\n",
        "            if pred in ref or ref in pred:\n",
        "                return ref\n",
        "        return 'no_match'\n",
        "\n",
        "    df['resolved_truth'] = df.apply(resolve_with_partial_match, axis=1)\n",
        "    # Compute macro F1 score\n",
        "    macro_f1_score = f1_score(df['resolved_truth'], df['moral_value'], average='macro')\n",
        "    print(f\"Macro F1 Score moral values caluclations with prefix removal and partial match logic for {case_name}: {macro_f1_score:.3f}\\n\")\n",
        "    return macro_f1_score"
      ],
      "metadata": {
        "id": "WobEmusBBPAV"
      },
      "execution_count": null,
      "outputs": []
    },
    {
      "cell_type": "code",
      "source": [
        "#example- English dataset\n",
        "explain_cases = [('gpt_explain_cot',english_gpt_explain_cot),\n",
        "                 ('gpt_explain_4shot_zero',english_gpt_explain_4shot_zero),\n",
        "                 ('gpt_explain_zero',english_gpt_explain_zero),\n",
        "                 ('llama_explain_cot',english_llama_explain_cot),\n",
        "                 ('llama_explain_4shot_zero',english_llama_explain_4shot_zero),\n",
        "                 ('llama_explain_zero',english_llama_explain_zero)]\n",
        "output = {}\n",
        "for (explain_name, explain_case) in explain_cases:\n",
        "  f1_scores = compute_custom_f1(explain_case, explain_name)\n",
        "  output[explain_name] = f1_scores\n",
        "output"
      ],
      "metadata": {
        "colab": {
          "base_uri": "https://localhost:8080/"
        },
        "outputId": "5c830fd3-9092-411c-c3ac-0d64c3b61240",
        "id": "DOPjAe40BPAW"
      },
      "execution_count": null,
      "outputs": [
        {
          "output_type": "stream",
          "name": "stdout",
          "text": [
            "(700, 15)\n",
            "Macro F1 Score moral values caluclations with prefix removal and partial match logic for gpt_explain_cot: 0.202\n",
            "\n",
            "(700, 15)\n",
            "Macro F1 Score moral values caluclations with prefix removal and partial match logic for gpt_explain_4shot_zero: 0.225\n",
            "\n",
            "(700, 15)\n",
            "Macro F1 Score moral values caluclations with prefix removal and partial match logic for gpt_explain_zero: 0.254\n",
            "\n",
            "(700, 15)\n",
            "Macro F1 Score moral values caluclations with prefix removal and partial match logic for llama_explain_cot: 0.322\n",
            "\n",
            "(700, 15)\n",
            "Macro F1 Score moral values caluclations with prefix removal and partial match logic for llama_explain_4shot_zero: 0.301\n",
            "\n",
            "(700, 15)\n",
            "Macro F1 Score moral values caluclations with prefix removal and partial match logic for llama_explain_zero: 0.324\n",
            "\n"
          ]
        },
        {
          "output_type": "execute_result",
          "data": {
            "text/plain": [
              "{'gpt_explain_cot': 0.20233118826828436,\n",
              " 'gpt_explain_4shot_zero': 0.22511078304099696,\n",
              " 'gpt_explain_zero': 0.25410186515833383,\n",
              " 'llama_explain_cot': 0.3222874326693212,\n",
              " 'llama_explain_4shot_zero': 0.30094955976395593,\n",
              " 'llama_explain_zero': 0.3241732576562062}"
            ]
          },
          "metadata": {},
          "execution_count": 109
        }
      ]
    },
    {
      "cell_type": "markdown",
      "source": [
        "# Code for MFTC EMNLP Ppaper: Appendix D.1"
      ],
      "metadata": {
        "id": "Dg5SV7TK5qkl"
      }
    },
    {
      "cell_type": "code",
      "source": [
        "import numpy as np\n",
        "import matplotlib.pyplot as plt\n",
        "\n",
        "import re\n",
        "import nltk\n",
        "import nltk\n",
        "\n",
        "# nltk.download('punkt_tab')\n",
        "# import\n",
        "from transformers import AutoTokenizer\n",
        "persian_tokenizer = AutoTokenizer.from_pretrained(\"mshojaei77/PersianBPETokenizer\")\n",
        "farsi_tokenizer = AutoTokenizer.from_pretrained(\"HooshvareLab/bert-fa-base-uncased\")\n",
        "\n",
        "\n",
        "# Download necessary NLTK resources (run once)\n",
        "nltk.download('punkt')\n",
        "\n",
        "file_paths = {\n",
        "    'English': {\n",
        "        'GPT': {\n",
        "            'Zero-shot': english_gpt_explain_zero,\n",
        "            '4-shot': english_gpt_explain_4shot_zero,\n",
        "            'CoT': english_gpt_explain_cot\n",
        "        },\n",
        "        'LLaMA': {\n",
        "            'Zero-shot': english_llama_explain_zero,\n",
        "            '4-shot': english_llama_explain_4shot_zero,\n",
        "            'CoT': english_llama_explain_cot\n",
        "        }\n",
        "    },\n",
        "    'Persian': {\n",
        "        'GPT': {\n",
        "            'Zero-shot': persian_gpt_explain_zero,\n",
        "            '4-shot': persian_gpt_explain_4shot_zero,\n",
        "            'CoT': persian_gpt_explain_cot\n",
        "        },\n",
        "        'LLaMA': {\n",
        "            'Zero-shot': persian_llama_explain_zero,\n",
        "            '4-shot': persian_llama_explain_4shot_zero,\n",
        "            'CoT': persian_llama_explain_cot\n",
        "        }\n",
        "    },\n",
        "    'Italian': {\n",
        "        'GPT': {\n",
        "            'Zero-shot': itali_gpt_explain_zero,\n",
        "            '4-shot': itali_gpt_explain_4shot_zero,\n",
        "            'CoT': itali_gpt_explain_cot\n",
        "        },\n",
        "        'LLaMA': {\n",
        "            'Zero-shot': itali_llama_explain_zero,\n",
        "            '4-shot': itali_llama_explain_4shot_zero,\n",
        "            'CoT': itali_llama_explain_cot\n",
        "        }\n",
        "    },\n",
        "    'Portuguese': {\n",
        "        'GPT': {\n",
        "            'Zero-shot': porto_gpt_explain_zero,\n",
        "            '4-shot': porto_gpt_explain_4shot_zero,\n",
        "            'CoT': porto_gpt_explain_cot\n",
        "        },\n",
        "        'LLaMA': {\n",
        "            'Zero-shot': porto_llama_explain_zero,\n",
        "            '4-shot': porto_llama_explain_4shot_zero,\n",
        "            'CoT': porto_llama_explain_cot\n",
        "        }\n",
        "    }\n",
        "}\n",
        "\n",
        "\n",
        "def compute_mean_word_count(df, language):\n",
        "    if df['explanation'].isna().all():\n",
        "        return 0\n",
        "\n",
        "    if language == 'Italian':\n",
        "        # Italian-specific tokenization\n",
        "        return df['explanation'].astype(str).apply(\n",
        "            lambda x: len(nltk.word_tokenize(x, language='italian'))).mean()\n",
        "    elif language == 'Portuguese':\n",
        "        # Portuguese-specific tokenization\n",
        "        return df['explanation'].astype(str).apply(\n",
        "            lambda x: len(nltk.word_tokenize(x, language='portuguese'))).mean()\n",
        "\n",
        "    elif language == 'Persian':\n",
        "        return df['explanation'].astype(str).apply(\n",
        "            lambda x: len(farsi_tokenizer.tokenize(x))).mean()\n",
        "\n",
        "    else:  # English and fallback\n",
        "        return df['explanation'].astype(str).apply(\n",
        "            lambda x: len(nltk.word_tokenize(x))).mean()\n",
        "\n",
        "# mean word count\n",
        "# def compute_mean_word_count(df):\n",
        "#     return df['explanation'].astype(str).apply(lambda x: len(x.split())).mean()\n",
        "\n",
        "\n",
        "# Collect scores\n",
        "def get_mean_scores(model_name):\n",
        "    data = []\n",
        "    for lang in languages:\n",
        "        means = []\n",
        "        for prompt in prompt_types:\n",
        "            path = file_paths[lang][model_name][prompt] #language, gpt or llama, and, prompts types\n",
        "            mean_wc = compute_mean_word_count(path, lang)\n",
        "            means.append(mean_wc)\n",
        "        data.append(means)\n",
        "    return np.array(data)\n",
        "\n",
        "# Get data for GPT and LLaMA\n",
        "\n",
        "languages = ['English', 'Persian', 'Italian', 'Portuguese']\n",
        "prompt_types = ['Zero-shot', '4-shot', 'CoT']\n",
        "gpt_scores = get_mean_scores('GPT')\n",
        "llama_scores = get_mean_scores('LLaMA')\n",
        "\n",
        "# Plot\n",
        "x = np.arange(len(languages))  # 4 groups\n",
        "bar_width = 0.25\n",
        "\n",
        "fig, axes = plt.subplots(2, 1, figsize=(6, 6), sharey=False)\n",
        "fig.suptitle('Mean Word Count per Prompting Strategy Across Languages', fontsize=18)\n",
        "\n",
        "for ax, scores, model, color in zip(axes, [gpt_scores, llama_scores], ['GPT', 'LLaMA'], ['royalblue', 'purple']):\n",
        "    for i, prompt in enumerate(prompt_types):\n",
        "        ax.bar(x + i*bar_width, scores[:, i], width=bar_width, label=prompt, color=color, alpha=0.5 + i*0.25)\n",
        "\n",
        "    ax.set_xticks(x + bar_width)\n",
        "    ax.set_xticklabels(languages)\n",
        "    ax.set_title(model)\n",
        "    ax.set_ylabel(\"Mean Word Count\")\n",
        "    ax.legend()\n",
        "    ax.grid(axis='y', linestyle='--', alpha=0.6)\n",
        "\n",
        "plt.tight_layout(rect=[0, 0, 1, 0.95])\n",
        "plt.show()"
      ],
      "metadata": {
        "colab": {
          "base_uri": "https://localhost:8080/",
          "height": 646
        },
        "id": "H54jeZaUEYcn",
        "outputId": "70ce7995-eb94-4c91-c413-eafb2216d09a"
      },
      "execution_count": null,
      "outputs": [
        {
          "output_type": "stream",
          "name": "stderr",
          "text": [
            "[nltk_data] Downloading package punkt to /root/nltk_data...\n",
            "[nltk_data]   Package punkt is already up-to-date!\n"
          ]
        },
        {
          "output_type": "display_data",
          "data": {
            "text/plain": [
              "<Figure size 600x600 with 2 Axes>"
            ],
            "image/png": "[encoded data removed]"
          },
          "metadata": {}
        }
      ]
    }
  ]
}